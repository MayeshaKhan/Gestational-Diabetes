{
 "cells": [
  {
   "cell_type": "code",
   "execution_count": 4,
   "id": "d6905e7c-26cd-4dc7-b2ad-4a50b9887bdc",
   "metadata": {},
   "outputs": [
    {
     "name": "stdout",
     "output_type": "stream",
     "text": [
      "Python 3.12.7 | packaged by conda-forge | (main, Oct  4 2024, 15:47:54) [MSC v.1941 64 bit (AMD64)]\n",
      "\n",
      "Pandas: 2.2.3\n",
      "Scikit-Learn: 1.5.2\n",
      "Numpy: 2.1.2\n",
      "Matplotlib: 3.9.2\n",
      "\n",
      "TQDM: 4.66.5\n",
      "Bayesian Optimization: 1.5.1\n",
      "Gym: 0.26.2\n",
      "OpenCV: 4.10.0\n",
      "\n"
     ]
    }
   ],
   "source": [
    "import sys\n",
    "import pandas as pd\n",
    "import sklearn as sk\n",
    "import numpy as np\n",
    "import matplotlib\n",
    "import tqdm\n",
    "\n",
    "import bayes_opt\n",
    "import gym\n",
    "import cv2\n",
    "\n",
    "\n",
    "\n",
    "print(f\"Python {sys.version}\")\n",
    "print()\n",
    "\n",
    "\n",
    "\n",
    "print(f\"Pandas: {pd.__version__}\")\n",
    "print(f\"Scikit-Learn: {sk.__version__}\")\n",
    "print(f\"Numpy: {np.__version__}\")\n",
    "print(f\"Matplotlib: {matplotlib.__version__}\")\n",
    "print()\n",
    "print(f\"TQDM: {tqdm.__version__}\")\n",
    "\n",
    "print(f\"Bayesian Optimization: {bayes_opt.__version__}\")\n",
    "print(f\"Gym: {gym.__version__}\")\n",
    "print(f\"OpenCV: {cv2.__version__}\")\n",
    "print()\n"
   ]
  },
  {
   "cell_type": "code",
   "execution_count": 1,
   "id": "788832ac-0488-4b02-9aeb-5a812e0e64aa",
   "metadata": {},
   "outputs": [
    {
     "ename": "ModuleNotFoundError",
     "evalue": "No module named 'intel_extension_for_tensorflow'",
     "output_type": "error",
     "traceback": [
      "\u001b[1;31m---------------------------------------------------------------------------\u001b[0m",
      "\u001b[1;31mModuleNotFoundError\u001b[0m                       Traceback (most recent call last)",
      "Cell \u001b[1;32mIn[1], line 1\u001b[0m\n\u001b[1;32m----> 1\u001b[0m \u001b[38;5;28;01mimport\u001b[39;00m \u001b[38;5;21;01mintel_extension_for_tensorflow\u001b[39;00m \u001b[38;5;28;01mas\u001b[39;00m \u001b[38;5;21;01mitex\u001b[39;00m\n\u001b[0;32m      2\u001b[0m itex\u001b[38;5;241m.\u001b[39mexperimental_set_backend(\u001b[38;5;124m\"\u001b[39m\u001b[38;5;124mgpu\u001b[39m\u001b[38;5;124m\"\u001b[39m)\n\u001b[0;32m      4\u001b[0m \u001b[38;5;28;01mimport\u001b[39;00m \u001b[38;5;21;01mtensorflow\u001b[39;00m \u001b[38;5;28;01mas\u001b[39;00m \u001b[38;5;21;01mtf\u001b[39;00m\n",
      "\u001b[1;31mModuleNotFoundError\u001b[0m: No module named 'intel_extension_for_tensorflow'"
     ]
    }
   ],
   "source": [
    "import intel_extension_for_tensorflow as itex\n",
    "itex.experimental_set_backend(\"gpu\")\n",
    "\n",
    "import tensorflow as tf\n",
    "print(\"Available devices:\")\n",
    "print(tf.config.list_physical_devices())\n",
    "s()"
   ]
  },
  {
   "cell_type": "code",
   "execution_count": 2,
   "id": "61c9c2d8-5e03-4369-8b73-652d06f8b42c",
   "metadata": {},
   "outputs": [
    {
     "name": "stdout",
     "output_type": "stream",
     "text": [
      "Available devices:\n",
      "[PhysicalDevice(name='/physical_device:CPU:0', device_type='CPU')]\n"
     ]
    }
   ],
   "source": [
    "import tensorflow as tf\n",
    "print(\"Available devices:\")\n",
    "print(tf.config.list_physical_devices())"
   ]
  },
  {
   "cell_type": "code",
   "execution_count": null,
   "id": "3c6d4bc8-312d-42cd-a497-1c5c38f65206",
   "metadata": {},
   "outputs": [],
   "source": []
  },
  {
   "cell_type": "code",
   "execution_count": null,
   "id": "58667a1b-3738-41d5-8c05-17b185bf6b29",
   "metadata": {},
   "outputs": [],
   "source": []
  }
 ],
 "metadata": {
  "kernelspec": {
   "display_name": "Python (Intern)",
   "language": "python",
   "name": "intern"
  },
  "language_info": {
   "codemirror_mode": {
    "name": "ipython",
    "version": 3
   },
   "file_extension": ".py",
   "mimetype": "text/x-python",
   "name": "python",
   "nbconvert_exporter": "python",
   "pygments_lexer": "ipython3",
   "version": "3.12.7"
  }
 },
 "nbformat": 4,
 "nbformat_minor": 5
}
